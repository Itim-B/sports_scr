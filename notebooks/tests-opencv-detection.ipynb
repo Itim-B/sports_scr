{
 "cells": [
  {
   "cell_type": "code",
   "execution_count": 25,
   "metadata": {},
   "outputs": [
    {
     "data": {
      "text/plain": [
       "-1"
      ]
     },
     "execution_count": 25,
     "metadata": {},
     "output_type": "execute_result"
    }
   ],
   "source": [
    "# Import packages \n",
    "import cv2\n",
    "import numpy as np\n",
    "\n",
    "img_path = '../data/natation/000002.png'\n",
    "\n",
    "#Create MSER object\n",
    "mser = cv2.MSER_create()\n",
    "\n",
    "#Your image path i-e receipt path\n",
    "img = cv2.imread(img_path, cv2.IMREAD_GRAYSCALE)\n",
    "ref_img = cv2.imread(img_path)\n",
    "backup_img = ref_img.copy()\n",
    "\n",
    "#detect regions in gray scale image\n",
    "regions, _ = mser.detectRegions(img)\n",
    "\n",
    "hulls = [cv2.convexHull(p.reshape(-1, 1, 2)) for p in regions]\n",
    "\n",
    "cv2.polylines(ref_img, hulls, 1, (0, 255, 0))\n",
    "\n",
    "cv2.imshow('img', ref_img)\n",
    "\n",
    "cv2.waitKey(0)\n",
    "\n",
    "mask = np.zeros((img.shape[0], img.shape[1], 1), dtype=np.uint8)\n",
    "\n",
    "for contour in hulls:\n",
    "\n",
    "    cv2.drawContours(mask, [contour], -1, (255, 255, 255), -1)\n",
    "\n",
    "#this is used to find only text regions, remaining are ignored\n",
    "text_only = cv2.bitwise_and(img, img, mask=mask)\n",
    "\n",
    "cv2.imshow(\"text only\", text_only)\n",
    "\n",
    "cv2.waitKey(0)"
   ]
  },
  {
   "cell_type": "code",
   "execution_count": 5,
   "metadata": {},
   "outputs": [
    {
     "data": {
      "text/plain": [
       "8994"
      ]
     },
     "execution_count": 5,
     "metadata": {},
     "output_type": "execute_result"
    }
   ],
   "source": [
    "len(regions)"
   ]
  },
  {
   "cell_type": "code",
   "execution_count": 6,
   "metadata": {},
   "outputs": [],
   "source": [
    "import cv2\n",
    "import numpy as np\n",
    "\n",
    "# Load an image\n",
    "img = cv2.imread(img_path)\n",
    "\n",
    "#Create MSER object\n",
    "mser = cv2.MSER_create()\n",
    "\n",
    "# Convert the image to grayscale\n",
    "gray = cv2.cvtColor(img, cv2.COLOR_BGR2GRAY)\n",
    "\n",
    "# Use the text module to detect regions\n",
    "regions, _ = mser.detectRegions(gray)\n",
    "\n",
    "# Draw rectangles around the regions\n",
    "rectangles = []\n",
    "\n",
    "for region in regions:\n",
    "    x, y, w, h = cv2.boundingRect(region)\n",
    "    rectangles.append([x, y, x + w, y + h])\n",
    "    cv2.rectangle(img, (x, y), (x + w, y + h), (0, 0, 255), 2)\n",
    "\n",
    "# Display the image with the rectangles\n",
    "cv2.imshow('Image with rectangles', img)\n",
    "cv2.waitKey(0)\n",
    "cv2.destroyAllWindows()"
   ]
  },
  {
   "attachments": {},
   "cell_type": "markdown",
   "metadata": {},
   "source": [
    "<h2>Min-max Suppression</h2>"
   ]
  },
  {
   "cell_type": "code",
   "execution_count": 36,
   "metadata": {},
   "outputs": [],
   "source": [
    "# Reset img\n",
    "img = backup_img.copy()\n",
    "\n",
    "confidences = [1 for x in rectangles]\n",
    "\n",
    "# Convert the list of bounding boxes to a numpy array\n",
    "boxes = np.array(rectangles, dtype=\"float32\")\n",
    "\n",
    "# Perform non-maximum suppression\n",
    "indices = cv2.dnn.NMSBoxes(boxes, confidences, 0.5, 0.3)\n",
    "\n",
    "# Draw rectangles around the regions after suppression\n",
    "for i in indices:\n",
    "    x1, y1, x2, y2 = boxes[i]\n",
    "    cv2.rectangle(img, (int(x1), int(y1)), (int(x2), int(y2)), (0, 0, 255), 2)\n",
    "\n",
    "# Display the image with the rectangles\n",
    "cv2.imshow('Image with rectangles', img)\n",
    "cv2.waitKey(0)\n",
    "cv2.destroyAllWindows()"
   ]
  },
  {
   "cell_type": "code",
   "execution_count": 19,
   "metadata": {},
   "outputs": [
    {
     "data": {
      "text/plain": [
       "array([   0,    2,    3,    4,    7,    8,    9,   12,   17,   20,  106,\n",
       "        293,  525, 2103, 2106, 2123])"
      ]
     },
     "execution_count": 19,
     "metadata": {},
     "output_type": "execute_result"
    }
   ],
   "source": [
    "indices"
   ]
  },
  {
   "cell_type": "code",
   "execution_count": 20,
   "metadata": {},
   "outputs": [
    {
     "data": {
      "text/plain": [
       "16"
      ]
     },
     "execution_count": 20,
     "metadata": {},
     "output_type": "execute_result"
    }
   ],
   "source": [
    "len(indices)"
   ]
  },
  {
   "cell_type": "code",
   "execution_count": 15,
   "metadata": {},
   "outputs": [
    {
     "data": {
      "text/plain": [
       "8986"
      ]
     },
     "execution_count": 15,
     "metadata": {},
     "output_type": "execute_result"
    }
   ],
   "source": [
    "len(rectangles)"
   ]
  },
  {
   "cell_type": "code",
   "execution_count": 16,
   "metadata": {},
   "outputs": [],
   "source": [
    "cv2.imshow('Image with rectangles', ref_img)\n",
    "cv2.waitKey(0)\n",
    "cv2.destroyAllWindows()"
   ]
  },
  {
   "cell_type": "code",
   "execution_count": 100,
   "metadata": {},
   "outputs": [
    {
     "data": {
      "text/plain": [
       "-1"
      ]
     },
     "execution_count": 100,
     "metadata": {},
     "output_type": "execute_result"
    }
   ],
   "source": [
    "img = backup_img.copy()\n",
    "gray = cv2.cvtColor(backup_img, cv2.COLOR_BGR2GRAY)\n",
    "blur = cv2.medianBlur(gray, 3)\n",
    "thresh = cv2.threshold(blur, 0, 255, cv2.THRESH_BINARY_INV + cv2.THRESH_OTSU)[1]\n",
    "kernel = cv2.getStructuringElement(cv2.MORPH_RECT, (3,2))\n",
    "opening = cv2.morphologyEx(thresh, cv2.MORPH_OPEN, kernel, iterations=1)\n",
    "\n",
    "dilate_kernel = cv2.getStructuringElement(cv2.MORPH_RECT, (2,1))\n",
    "dilate = cv2.dilate(opening, dilate_kernel, iterations=4)\n",
    "\n",
    "cnts = cv2.findContours(dilate, cv2.RETR_EXTERNAL, cv2.CHAIN_APPROX_SIMPLE)\n",
    "cnts = cnts[0] if len(cnts) == 2 else cnts[1]\n",
    "for c in cnts:\n",
    "    x,y,w,h = cv2.boundingRect(c)\n",
    "    cv2.rectangle(img, (x, y), (x + w, y + h), (36,255,12), 2)\n",
    "\n",
    "cv2.imshow('thresh', thresh)\n",
    "cv2.imshow('opening', opening)\n",
    "cv2.imshow('dilate', dilate)\n",
    "cv2.imshow('image', img)\n",
    "cv2.waitKey()"
   ]
  },
  {
   "cell_type": "code",
   "execution_count": 53,
   "metadata": {},
   "outputs": [],
   "source": [
    "img = backup_img.copy()\n",
    "gray = cv2.cvtColor(backup_img, cv2.COLOR_BGR2GRAY)\n",
    "blur = cv2.medianBlur(gray, 3)\n",
    "thresh = cv2.threshold(blur, 0, 255, cv2.THRESH_BINARY_INV + cv2.THRESH_OTSU)[1]\n",
    "kernel = cv2.getStructuringElement(cv2.MORPH_RECT, (3,2))\n",
    "opening = cv2.morphologyEx(thresh, cv2.MORPH_OPEN, kernel, iterations=1)\n",
    "\n",
    "# Use the text module to detect regions\n",
    "regions, _ = mser.detectRegions(opening)\n",
    "\n",
    "# Draw rectangles around the regions\n",
    "rectangles = []\n",
    "\n",
    "for region in regions:\n",
    "    x, y, w, h = cv2.boundingRect(region)\n",
    "    rectangles.append([x, y, x + w, y + h])\n",
    "    cv2.rectangle(img, (x, y), (x + w, y + h), (0, 0, 255), 2)\n",
    "\n",
    "# Display the image with the rectangles\n",
    "cv2.imwrite(\"test.png\", img)\n",
    "cv2.imshow('Image with rectangles', img)\n",
    "cv2.waitKey(0)\n",
    "cv2.destroyAllWindows()"
   ]
  },
  {
   "attachments": {},
   "cell_type": "markdown",
   "metadata": {},
   "source": [
    "Peut être utilisé pour enlever des sponsors dans l'ombre"
   ]
  },
  {
   "attachments": {},
   "cell_type": "markdown",
   "metadata": {},
   "source": [
    "Transformons cela en une fonction : "
   ]
  },
  {
   "cell_type": "code",
   "execution_count": 74,
   "metadata": {},
   "outputs": [],
   "source": [
    "def get_boxes(img_path):\n",
    "    img = cv2.imread(img_path)\n",
    "    gray = cv2.cvtColor(img, cv2.COLOR_BGR2GRAY)\n",
    "    blur = cv2.medianBlur(gray, 3)\n",
    "    thresh = cv2.threshold(blur, 0, 255, cv2.THRESH_BINARY_INV + cv2.THRESH_OTSU)[1]\n",
    "    kernel = cv2.getStructuringElement(cv2.MORPH_RECT, (3,2))\n",
    "    opening = cv2.morphologyEx(thresh, cv2.MORPH_OPEN, kernel, iterations=1)\n",
    "\n",
    "    # Use the text module to detect regions\n",
    "    regions, _ = mser.detectRegions(opening)\n",
    "\n",
    "    # Draw rectangles around the regions\n",
    "    rectangles = []\n",
    "\n",
    "    for region in regions:\n",
    "        x, y, w, h = cv2.boundingRect(region)\n",
    "        rectangles.append([x, y, x + w, y + h])\n",
    "        cv2.rectangle(img, (x, y), (x + w, y + h), (0, 0, 255), 2)\n",
    "\n",
    "    # Display the image with the rectangles\n",
    "    cv2.imwrite(\"test_{}.png\".format(img_path.split(\".\")[-2].split(\"/\")[-1]), img)\n",
    "\n",
    "    return rectangles"
   ]
  },
  {
   "cell_type": "code",
   "execution_count": 75,
   "metadata": {},
   "outputs": [],
   "source": [
    "for i in range(15):\n",
    "    img_path_i = '../data/natation/0000{}.png'.format(i if i >= 10 else \"0\" + str(i))\n",
    "    get_boxes(img_path_i)"
   ]
  },
  {
   "cell_type": "code",
   "execution_count": 105,
   "metadata": {},
   "outputs": [],
   "source": [
    "def get_text_boxes(img_path):\n",
    "    # Load an image\n",
    "    img = cv2.imread(img_path)\n",
    "\n",
    "    #Create MSER object\n",
    "    mser = cv2.MSER_create()\n",
    "\n",
    "    # Convert the image to grayscale\n",
    "    gray = cv2.cvtColor(img, cv2.COLOR_BGR2GRAY)\n",
    "\n",
    "\n",
    "    # Use the text module to detect regions\n",
    "    regions, _ = mser.detectRegions(gray)\n",
    "\n",
    "    # Draw rectangles around the regions\n",
    "    rectangles = []\n",
    "\n",
    "    for region in regions:\n",
    "        x, y, w, h = cv2.boundingRect(region)\n",
    "        rectangles.append([x, y, x + w, y + h])\n",
    "        cv2.rectangle(img, (x, y), (x + w, y + h), (0, 0, 255), 2)\n",
    "\n",
    "    # Display the image with the rectangles\n",
    "    cv2.imwrite(\"test_{}.png\".format(img_path.split(\".\")[-2].split(\"/\")[-1]), img)\n",
    "\n",
    "    return rectangles"
   ]
  },
  {
   "cell_type": "code",
   "execution_count": 106,
   "metadata": {},
   "outputs": [],
   "source": [
    "for i in range(15):\n",
    "    img_path_i = '../data/natation/0000{}.png'.format(i if i >= 10 else \"0\" + str(i))\n",
    "    get_text_boxes(img_path_i)"
   ]
  },
  {
   "cell_type": "code",
   "execution_count": 91,
   "metadata": {},
   "outputs": [],
   "source": [
    "def get_cleaned_text_boxes(img_path):\n",
    "    # Load an image\n",
    "    img = cv2.imread(img_path)\n",
    "\n",
    "    #Create MSER object\n",
    "    mser = cv2.MSER_create()\n",
    "\n",
    "    # Convert the image to grayscale\n",
    "    gray = cv2.cvtColor(img, cv2.COLOR_BGR2GRAY)\n",
    "\n",
    "    # Use the text module to detect regions\n",
    "    regions, _ = mser.detectRegions(gray)\n",
    "\n",
    "    # Draw rectangles around the regions\n",
    "    rectangles = []\n",
    "    surfaces = []\n",
    "\n",
    "    for region in regions:\n",
    "        x, y, w, h = cv2.boundingRect(region)\n",
    "        rectangles.append([x, y, x + w, y + h])\n",
    "        surfaces.append(w * h)\n",
    "    \n",
    "    s_median = np.median(np.array(surfaces))\n",
    "    \n",
    "    cleaned_rects = []\n",
    "    for i in range(len(rectangles)):\n",
    "        if surfaces[i] >= 0.1 * s_median and surfaces[i] <= 6*s_median:\n",
    "            rect = rectangles[i]\n",
    "            cv2.rectangle(img, (rect[0], rect[1]), (rect[2], rect[3]), (0, 0, 255), 2)\n",
    "            cleaned_rects.append(rect)\n",
    "\n",
    "    # Display the image with the rectangles\n",
    "    cv2.imwrite(\"test_{}_clean.png\".format(img_path.split(\".\")[-2].split(\"/\")[-1]), img)\n",
    "\n",
    "    return cleaned_rects"
   ]
  },
  {
   "cell_type": "code",
   "execution_count": 92,
   "metadata": {},
   "outputs": [],
   "source": [
    "for i in range(15):\n",
    "    img_path_i = '../data/natation/0000{}.png'.format(i if i >= 10 else \"0\" + str(i))\n",
    "    get_cleaned_text_boxes(img_path_i)"
   ]
  },
  {
   "cell_type": "code",
   "execution_count": 112,
   "metadata": {},
   "outputs": [],
   "source": [
    "def dist_rectangles(r1, r2):\n",
    "    left = r2[2] < r1[0]\n",
    "    right = r1[2] < r2[0]\n",
    "    bottom = r2[3] < r1[1]\n",
    "    top = r1[3] < r2[1]\n",
    "    if top and left:\n",
    "        dist = np.linalg.norm([r1[0] - r2[2], r1[3] - r2[1]])\n",
    "    elif left and bottom:\n",
    "        dist = np.linalg.norm([r1[0] - r2[2], r1[1] - r2[3]])\n",
    "    elif bottom and right:\n",
    "        dist = np.linalg.norm([r1[2] - r2[0], r1[1]- r2[3]])\n",
    "    elif right and top:\n",
    "        dist = np.linalg.norm([r1[2] - r2[0], r1[3] - r2[1]])\n",
    "    elif left or right:\n",
    "        dist = abs(r1[0] - r2[2])\n",
    "    elif bottom or top:\n",
    "        dist = abs(r1[1] - r2[3])\n",
    "    else: # rectangles intersect\n",
    "        return 0.\n",
    "    w = r2[2] - r2[0] + r1[2] - r1[0]\n",
    "    h = r2[3] - r2[1] + r1[3] - r1[1]\n",
    "    return dist / (w + h)"
   ]
  },
  {
   "cell_type": "code",
   "execution_count": 122,
   "metadata": {},
   "outputs": [],
   "source": [
    "def merge_two_rectangles(r1, r2):\n",
    "    x1 = min(r1[0], r2[0])\n",
    "    y1 = min(r1[1], r2[1])\n",
    "    x2 = max(r1[2], r2[2])\n",
    "    y2 = max(r1[3], r2[3])\n",
    "    return [x1, y1, x2, y2]"
   ]
  },
  {
   "cell_type": "code",
   "execution_count": 124,
   "metadata": {},
   "outputs": [],
   "source": [
    "def merge_rectangles(rectangles):\n",
    "    if len(rectangles) == 1:\n",
    "        return rectangles\n",
    "    elif len(rectangles) > 1:\n",
    "        new_rect = merge_two_rectangles(rectangles[0], rectangles[1])\n",
    "        rectangles.pop(0)\n",
    "        rectangles.pop(0)\n",
    "        return merge_rectangles([new_rect] + rectangles)\n",
    "    return []"
   ]
  },
  {
   "cell_type": "code",
   "execution_count": 120,
   "metadata": {},
   "outputs": [],
   "source": [
    "def merge_boxes_with_dists(rectangles, threshold=0.2):\n",
    "    l = len(rectangles)\n",
    "    dists = np.zeros((l, l))\n",
    "    groups = np.zeros(l)\n",
    "\n",
    "    for i in range(1, l):\n",
    "        for j in range(i-1):\n",
    "            dists[i][j] = dist_rectangles(rectangles[i], rectangles[j])\n",
    "            if dists[i][j] <= threshold:\n",
    "                # Group\n",
    "                if not (groups[i] or groups[j]):\n",
    "                    group = max(groups) + 1\n",
    "                    groups[i], groups[j] = group, group\n",
    "                elif groups[i] == groups[j]:\n",
    "                    pass\n",
    "                elif groups[i] * groups[j] == 0:\n",
    "                    index = np.argmax([groups[i], groups[j]])\n",
    "                    group = max([groups[i], groups[j]])\n",
    "                    groups[i], groups[j] = group, group\n",
    "                else:\n",
    "                    min_group = min([groups[i], groups[j]])\n",
    "                    max_group = max([groups[i], groups[j]])\n",
    "                    for k in range(l):\n",
    "                        groups[k] = min_group if groups[k] == max_group else groups[k]\n",
    "    \n",
    "    max_group = max(groups)\n",
    "    grouped_rectangles = []\n",
    "    for group in range(1, int(max_group) + 1):\n",
    "        rect_indexes = [i for i in range(len(groups)) if groups[i] == group]\n",
    "        group_rects = [rectangles[i] for i in rect_indexes]\n",
    "        grouped_rectangles += merge_rectangles(group_rects)\n",
    "    \n",
    "    return grouped_rectangles"
   ]
  },
  {
   "cell_type": "code",
   "execution_count": 126,
   "metadata": {},
   "outputs": [],
   "source": [
    "def get_cleaned_text_boxes_2(img_path):\n",
    "    # Load an image\n",
    "    img = cv2.imread(img_path)\n",
    "\n",
    "    #Create MSER object\n",
    "    mser = cv2.MSER_create()\n",
    "\n",
    "    # Convert the image to grayscale\n",
    "    gray = cv2.cvtColor(img, cv2.COLOR_BGR2GRAY)\n",
    "\n",
    "    # Use the text module to detect regions\n",
    "    regions, _ = mser.detectRegions(gray)\n",
    "\n",
    "    # Draw rectangles around the regions\n",
    "    rectangles = []\n",
    "    surfaces = []\n",
    "\n",
    "    for region in regions:\n",
    "        x, y, w, h = cv2.boundingRect(region)\n",
    "        rectangles.append([x, y, x + w, y + h])\n",
    "        surfaces.append(w * h)\n",
    "    \n",
    "    s_median = np.median(np.array(surfaces))\n",
    "    \n",
    "    cleaned_rects = []\n",
    "    for i in range(len(rectangles)):\n",
    "        if surfaces[i] >= 0.1 * s_median and surfaces[i] <= 6*s_median:\n",
    "            rect = rectangles[i]\n",
    "            #cv2.rectangle(img, (rect[0], rect[1]), (rect[2], rect[3]), (0, 0, 255), 2)\n",
    "            cleaned_rects.append(rect)\n",
    "    \n",
    "    cleaned_rects = merge_boxes_with_dists(cleaned_rects)\n",
    "            \n",
    "    for rect in cleaned_rects:\n",
    "        cv2.rectangle(img, (rect[0], rect[1]), (rect[2], rect[3]), (0, 0, 255), 2)\n",
    "\n",
    "    # Display the image with the rectangles\n",
    "    cv2.imwrite(\"test_{}_clean_2.png\".format(img_path.split(\".\")[-2].split(\"/\")[-1]), img)\n",
    "\n",
    "    return cleaned_rects"
   ]
  },
  {
   "cell_type": "code",
   "execution_count": 113,
   "metadata": {},
   "outputs": [
    {
     "ename": "TypeError",
     "evalue": "'numpy.float64' object cannot be interpreted as an integer",
     "output_type": "error",
     "traceback": [
      "\u001b[1;31m---------------------------------------------------------------------------\u001b[0m",
      "\u001b[1;31mTypeError\u001b[0m                                 Traceback (most recent call last)",
      "Cell \u001b[1;32mIn [113], line 3\u001b[0m\n\u001b[0;32m      1\u001b[0m \u001b[39mfor\u001b[39;00m i \u001b[39min\u001b[39;00m \u001b[39mrange\u001b[39m(\u001b[39m15\u001b[39m):\n\u001b[0;32m      2\u001b[0m     img_path_i \u001b[39m=\u001b[39m \u001b[39m'\u001b[39m\u001b[39m../data/natation/0000\u001b[39m\u001b[39m{}\u001b[39;00m\u001b[39m.png\u001b[39m\u001b[39m'\u001b[39m\u001b[39m.\u001b[39mformat(i \u001b[39mif\u001b[39;00m i \u001b[39m>\u001b[39m\u001b[39m=\u001b[39m \u001b[39m10\u001b[39m \u001b[39melse\u001b[39;00m \u001b[39m\"\u001b[39m\u001b[39m0\u001b[39m\u001b[39m\"\u001b[39m \u001b[39m+\u001b[39m \u001b[39mstr\u001b[39m(i))\n\u001b[1;32m----> 3\u001b[0m     get_cleaned_text_boxes_2(img_path_i)\n",
      "Cell \u001b[1;32mIn [110], line 32\u001b[0m, in \u001b[0;36mget_cleaned_text_boxes_2\u001b[1;34m(img_path)\u001b[0m\n\u001b[0;32m     29\u001b[0m         \u001b[39m#cv2.rectangle(img, (rect[0], rect[1]), (rect[2], rect[3]), (0, 0, 255), 2)\u001b[39;00m\n\u001b[0;32m     30\u001b[0m         cleaned_rects\u001b[39m.\u001b[39mappend(rect)\n\u001b[1;32m---> 32\u001b[0m cleaned_rects \u001b[39m=\u001b[39m merge_boxes_with_dists(cleaned_rects)\n\u001b[0;32m     34\u001b[0m \u001b[39mfor\u001b[39;00m rect \u001b[39min\u001b[39;00m rectangles:\n\u001b[0;32m     35\u001b[0m     cv2\u001b[39m.\u001b[39mrectangle(img, (rect[\u001b[39m0\u001b[39m], rect[\u001b[39m1\u001b[39m]), (rect[\u001b[39m2\u001b[39m], rect[\u001b[39m3\u001b[39m]), (\u001b[39m0\u001b[39m, \u001b[39m0\u001b[39m, \u001b[39m255\u001b[39m), \u001b[39m2\u001b[39m)\n",
      "Cell \u001b[1;32mIn [108], line 28\u001b[0m, in \u001b[0;36mmerge_boxes_with_dists\u001b[1;34m(rectangles, threshold)\u001b[0m\n\u001b[0;32m     26\u001b[0m max_group \u001b[39m=\u001b[39m \u001b[39mmax\u001b[39m(groups)\n\u001b[0;32m     27\u001b[0m grouped_rectangles \u001b[39m=\u001b[39m []\n\u001b[1;32m---> 28\u001b[0m \u001b[39mfor\u001b[39;00m group \u001b[39min\u001b[39;00m \u001b[39mrange\u001b[39;49m(\u001b[39m1\u001b[39;49m, max_group \u001b[39m+\u001b[39;49m \u001b[39m1\u001b[39;49m):\n\u001b[0;32m     29\u001b[0m     rect_indexes \u001b[39m=\u001b[39m [i \u001b[39mfor\u001b[39;00m i \u001b[39min\u001b[39;00m \u001b[39mrange\u001b[39m(\u001b[39mlen\u001b[39m(groups)) \u001b[39mif\u001b[39;00m groups[i] \u001b[39m==\u001b[39m group]\n\u001b[0;32m     30\u001b[0m     grouped_rectangles\u001b[39m.\u001b[39mappend(merge_rectangles(rect_indexes))\n",
      "\u001b[1;31mTypeError\u001b[0m: 'numpy.float64' object cannot be interpreted as an integer"
     ]
    }
   ],
   "source": [
    "for i in range(15):\n",
    "    img_path_i = '../data/natation/0000{}.png'.format(i if i >= 10 else \"0\" + str(i))\n",
    "    get_cleaned_text_boxes_2(img_path_i)"
   ]
  },
  {
   "cell_type": "code",
   "execution_count": 128,
   "metadata": {},
   "outputs": [],
   "source": [
    "img_path_i = '../data/natation/000000.png'\n",
    "get_cleaned_text_boxes_2(img_path_i)"
   ]
  }
 ],
 "metadata": {
  "kernelspec": {
   "display_name": "Python 3",
   "language": "python",
   "name": "python3"
  },
  "language_info": {
   "codemirror_mode": {
    "name": "ipython",
    "version": 3
   },
   "file_extension": ".py",
   "mimetype": "text/x-python",
   "name": "python",
   "nbconvert_exporter": "python",
   "pygments_lexer": "ipython3",
   "version": "3.10.7 (tags/v3.10.7:6cc6b13, Sep  5 2022, 14:08:36) [MSC v.1933 64 bit (AMD64)]"
  },
  "orig_nbformat": 4,
  "vscode": {
   "interpreter": {
    "hash": "0cb5f57e2a5319e0f8c5927ecc8338752ca9a28b1629daed833b1ff5a77e503b"
   }
  }
 },
 "nbformat": 4,
 "nbformat_minor": 2
}
