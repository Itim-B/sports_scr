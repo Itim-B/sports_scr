{
 "cells": [
  {
   "cell_type": "code",
   "execution_count": 1,
   "metadata": {},
   "outputs": [],
   "source": [
    "from PIL import Image\n",
    "import sys\n",
    "import easyocr\n",
    "import os\n",
    "import re\n",
    "import editdistance\n",
    "import cv2\n",
    "from matplotlib import pyplot as plt\n",
    "from torchmetrics import WordErrorRate, CharErrorRate, MatchErrorRate"
   ]
  },
  {
   "cell_type": "code",
   "execution_count": 2,
   "metadata": {},
   "outputs": [],
   "source": [
    "%matplotlib inline"
   ]
  },
  {
   "cell_type": "code",
   "execution_count": 3,
   "metadata": {},
   "outputs": [],
   "source": [
    "dic_names = {}\n",
    "for file in os.listdir(\"data/natation/\"):\n",
    "    if file[-4:] == \".txt\":\n",
    "        with open(os.path.join(\"data/natation/\", file), 'r') as f:\n",
    "            names = f.readlines()\n",
    "            for n in names:\n",
    "                complete_name = n.strip().split()[:-1]\n",
    "                last_name = complete_name[:-1]\n",
    "                first_name = complete_name[-1]\n",
    "                if len(last_name) == 1:\n",
    "                    last_name = ' '.join(complete_name[:-1])\n",
    "                    if last_name in dic_names:\n",
    "                        continue\n",
    "                    else:\n",
    "                        dic_names[last_name] = first_name\n",
    "                else:\n",
    "                    for ln in last_name:\n",
    "                        if ln in dic_names: # ISSUE IF NAME WITH DIFFERENT FIRDT NAMES\n",
    "                            continue\n",
    "                        else:\n",
    "                            dic_names[ln] = first_name"
   ]
  },
  {
   "cell_type": "code",
   "execution_count": 4,
   "metadata": {},
   "outputs": [
    {
     "name": "stderr",
     "output_type": "stream",
     "text": [
      "CUDA not available - defaulting to CPU. Note: This module is much faster with a GPU.\n"
     ]
    }
   ],
   "source": [
    "reader = easyocr.Reader(['en'])"
   ]
  },
  {
   "cell_type": "code",
   "execution_count": 5,
   "metadata": {},
   "outputs": [],
   "source": [
    "def reformat_predictions(raw_predictions):\n",
    "    return [pred[1] for pred in raw_predictions]"
   ]
  },
  {
   "cell_type": "code",
   "execution_count": 6,
   "metadata": {},
   "outputs": [],
   "source": [
    "def get_prediction_last_name(prediction, dic_names, min_edit_distance=2):\n",
    "    pattern = r'[0-9]'\n",
    "    cprediction = re.sub(pattern, '', prediction.strip()).strip()\n",
    "    last_names = []\n",
    "    for comp in cprediction.split(' '):\n",
    "        for n in dic_names.keys():\n",
    "            if editdistance.eval(n, comp) <= min_edit_distance:\n",
    "                last_names.append(comp)\n",
    "    return last_names"
   ]
  },
  {
   "cell_type": "code",
   "execution_count": 7,
   "metadata": {},
   "outputs": [],
   "source": [
    "def get_predictions_of_interest(predictions, dic_names):\n",
    "    preds = []\n",
    "    for pred in predictions:\n",
    "        cpred = get_prediction_last_name(pred, dic_names)\n",
    "        if len(cpred) == 0:\n",
    "            continue\n",
    "        elif len(cpred) == 1:\n",
    "            preds.extend(cpred)\n",
    "        else:\n",
    "            cpred = ' '.join(cpred)\n",
    "            preds.append(cpred)\n",
    "    return preds"
   ]
  },
  {
   "cell_type": "code",
   "execution_count": 8,
   "metadata": {},
   "outputs": [],
   "source": [
    "def get_ground_truth(path):\n",
    "    ground_truth = []\n",
    "    pattern = r'[0-9]'\n",
    "    with open(path, \"r\") as f:\n",
    "        ground_truth.extend([re.sub(pattern, '', y.strip()).strip(':., ') for y in f.readlines()])\n",
    "    return ground_truth"
   ]
  },
  {
   "cell_type": "code",
   "execution_count": 9,
   "metadata": {},
   "outputs": [],
   "source": [
    "def get_last_names_ground_truth(ground_truth):\n",
    "    return [' '.join(gt.split(' ')[:-1]) for gt in ground_truth]"
   ]
  },
  {
   "cell_type": "code",
   "execution_count": 10,
   "metadata": {},
   "outputs": [],
   "source": [
    "def compute_metrics(predictions_of_interest, last_names_ground_truth):\n",
    "    mers = {yhat: 0 for yhat in predictions_of_interest}\n",
    "    wers = {yhat: 0 for yhat in predictions_of_interest}\n",
    "    cers = {yhat: 0 for yhat in predictions_of_interest}\n",
    "\n",
    "    mer = MatchErrorRate()\n",
    "    wer = WordErrorRate()\n",
    "    cer = CharErrorRate()\n",
    "\n",
    "    for yhat in predictions_of_interest:\n",
    "        min_mer_error_rate = 1000\n",
    "        min_wer_error_rate = 1000\n",
    "        min_cer_error_rate = 1000\n",
    "        for y in last_names_ground_truth:\n",
    "            if mer(yhat, y) < min_mer_error_rate:\n",
    "                min_mer_error_rate = mer(yhat, y)\n",
    "            if wer(yhat, y) < min_wer_error_rate:\n",
    "                min_wer_error_rate = wer(yhat, y)\n",
    "            if cer(yhat, y) < min_cer_error_rate:\n",
    "                min_cer_error_rate = cer(yhat, y)\n",
    "        mers[yhat] = min_mer_error_rate.item()\n",
    "        wers[yhat] = min_wer_error_rate.item()\n",
    "        cers[yhat] = min_cer_error_rate.item()\n",
    "\n",
    "    return mers, wers, cers"
   ]
  },
  {
   "cell_type": "code",
   "execution_count": 11,
   "metadata": {},
   "outputs": [],
   "source": [
    "def compute_metrics_for_image(gt_path, im_path, dic_names):\n",
    "    ground_truth = get_ground_truth(gt_path)\n",
    "    last_names_ground_truth = get_last_names_ground_truth(ground_truth)\n",
    "\n",
    "    predictions = reformat_predictions(reader.readtext(im_path))\n",
    "    predictions = get_predictions_of_interest(predictions, dic_names)\n",
    "\n",
    "    return compute_metrics(predictions, last_names_ground_truth)"
   ]
  },
  {
   "cell_type": "code",
   "execution_count": 12,
   "metadata": {},
   "outputs": [],
   "source": [
    "def get_final_metric(gt_path, im_path, dic_names):\n",
    "    ground_truth = get_ground_truth(gt_path)\n",
    "    ground_truth = get_last_names_ground_truth(ground_truth)\n",
    "\n",
    "    mers, wers, cers = compute_metrics_for_image(gt_path, im_path, dic_names)\n",
    "    global_mer = sum(mers.values())/len(ground_truth)\n",
    "    global_wer = sum(wers.values())/len(ground_truth)\n",
    "    global_cer = sum(cers.values())/len(ground_truth)\n",
    "    \n",
    "    return (global_mer + global_wer + global_cer) / 3"
   ]
  },
  {
   "cell_type": "code",
   "execution_count": 13,
   "metadata": {},
   "outputs": [],
   "source": [
    "data_path = 'data/natation/'\n",
    "path_tuples = [(f\"00000{i}.png\", f\"00000{i}.txt\") for i in range(10)]\n",
    "path_tuples.extend([(f\"0000{i}.png\", f\"0000{i}.txt\") for i in range(10, 15)])"
   ]
  },
  {
   "cell_type": "code",
   "execution_count": 14,
   "metadata": {},
   "outputs": [],
   "source": [
    "def evaluate(data_path, path_tuples, dic_names):\n",
    "    metric = []\n",
    "    for i in range(len(path_tuples)):\n",
    "        im_path = data_path + path_tuples[i][0]\n",
    "        gt_path = data_path + path_tuples[i][1]\n",
    "        metric.append(get_final_metric(gt_path, im_path, dic_names))\n",
    "    return sum(metric)/len(metric)"
   ]
  },
  {
   "cell_type": "code",
   "execution_count": 15,
   "metadata": {},
   "outputs": [
    {
     "data": {
      "text/plain": [
       "1.006104005200417"
      ]
     },
     "execution_count": 15,
     "metadata": {},
     "output_type": "execute_result"
    }
   ],
   "source": [
    "evaluate(data_path, path_tuples, dic_names)"
   ]
  }
 ],
 "metadata": {
  "kernelspec": {
   "display_name": "condaocr",
   "language": "python",
   "name": "python3"
  },
  "language_info": {
   "codemirror_mode": {
    "name": "ipython",
    "version": 3
   },
   "file_extension": ".py",
   "mimetype": "text/x-python",
   "name": "python",
   "nbconvert_exporter": "python",
   "pygments_lexer": "ipython3",
   "version": "3.9.16 (main, Jan 11 2023, 10:02:19) \n[Clang 14.0.6 ]"
  },
  "orig_nbformat": 4,
  "vscode": {
   "interpreter": {
    "hash": "0a25b912b07e4dd4585ccde04ffb04637057c446ad3642b0a9b78343cc072e7d"
   }
  }
 },
 "nbformat": 4,
 "nbformat_minor": 2
}
